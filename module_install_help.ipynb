{
 "cells": [
  {
   "cell_type": "markdown",
   "metadata": {},
   "source": [
    "<i>École Polytechnique de Montréal</i>\n",
    "<br>\n",
    "<i>Cours MTH2210 : Calcul scientifique pour ingénieurs</i>\n",
    "<br>\n",
    "<i>Session d'hiver 2023</i>\n",
    "\n",
    "<h1><center>Installation et test des fonctions de la bibliothèque numérique du cours</center></h1>\n",
    "\n",
    "| N'DRI Donatien    | BOUCHET Pierre-Yves |\n",
    "|-------------------|---------------------|\n",
    "| Matricule 9999999 | Matricule 0000000   |"
   ]
  },
  {
   "cell_type": "markdown",
   "metadata": {},
   "source": [
    "# Installation ou mise à jour du module\n",
    "\n",
    "La cellule suivante n'est à exécuter que pour installer / mettre à jour la bibliothèque numérique du cours. Le reste du temps, elle peut rester commentée."
   ]
  },
  {
   "cell_type": "code",
   "execution_count": null,
   "metadata": {},
   "outputs": [],
   "source": [
    "# Installation du module. Le chemin d'accès est à adapter pour chaque utilisateur.\n",
    "# Il correspond au chemin pointant exactement sur l'archive téléchargée sur GitHub.\n",
    "# Sur le cas d'exemple, j'ai sauvegardé l'archive dans le dossier /home/pierre-yves/Documents/MTH2210,\n",
    "# puis je l'ai dézippée, puis j'ai renommé le dossier dézippé en \"MTH2210.py\".\n",
    "\n",
    "%pip install -e your/path/to/the/unzipped/folder\n",
    "# %pip install -e /home/pierre-yves/Documents/MTH2210/MTH2210.py"
   ]
  },
  {
   "cell_type": "markdown",
   "metadata": {},
   "source": [
    "# Test du module\n",
    "\n",
    "Chaque fonction est illustrée dans une cellule dédiée, que vous pouvez lancer indépendemment des autres."
   ]
  },
  {
   "cell_type": "code",
   "execution_count": 2,
   "metadata": {},
   "outputs": [
    {
     "data": {
      "text/html": [
       "<script>\n",
       "code_show=false; \n",
       "function code_toggle() {\n",
       " if (code_show){\n",
       " $('div.input').hide();\n",
       " } else {\n",
       " $('div.input').show();\n",
       " }\n",
       " code_show = !code_show\n",
       "} \n",
       "$( document ).ready(code_toggle);\n",
       "</script>\n",
       "Pour cacher/révéler le code brut et n'afficher que les commentaires et les résultats, cliquez <a href=\"javascript:code_toggle()\">ici</a>."
      ],
      "text/plain": [
       "<IPython.core.display.HTML object>"
      ]
     },
     "execution_count": 2,
     "metadata": {},
     "output_type": "execute_result"
    }
   ],
   "source": [
    "# Réinitialisation complète de l'environnement\n",
    "%reset -f\n",
    "\n",
    "# Import de la bibliothèque numérique du cours\n",
    "import MTH2210\n",
    "\n",
    "# Import des bibliothèques nécessaires intégrées à Python\n",
    "import sys\n",
    "import numpy as np\n",
    "import matplotlib.pyplot as plt\n",
    "\n",
    "# Définition d'un code permettant d'alléger le visuel du notebook; issu de\n",
    "# https://stackoverflow.com/questions/27934885/how-to-hide-code-from-cells-in-ipython-notebook-visualized-with-nbviewer\n",
    "from IPython.display import HTML\n",
    "HTML('''<script>\n",
    "code_show=false; \n",
    "function code_toggle() {\n",
    " if (code_show){\n",
    " $('div.input').hide();\n",
    " } else {\n",
    " $('div.input').show();\n",
    " }\n",
    " code_show = !code_show\n",
    "} \n",
    "$( document ).ready(code_toggle);\n",
    "</script>\n",
    "Pour cacher/révéler le code brut et n'afficher que les commentaires et les résultats, cliquez <a href=\"javascript:code_toggle()\">ici</a>.''')"
   ]
  },
  {
   "cell_type": "markdown",
   "metadata": {},
   "source": [
    "## Méthode de la bissection"
   ]
  },
  {
   "cell_type": "code",
   "execution_count": null,
   "metadata": {},
   "outputs": [],
   "source": [
    "help(\"MTH2210.bissection\")"
   ]
  },
  {
   "cell_type": "code",
   "execution_count": null,
   "metadata": {},
   "outputs": [],
   "source": [
    "def f(x):\n",
    "    return(x)\n",
    "(x0, x1) = (-0.5, 1/3)\n",
    "\n",
    "xout, fout = MTH2210.bissection(f, x0, x1, output=\"pipe\")\n",
    "# xout, fout = MTH2210.bissection(f, x0, x1)\n",
    "\n",
    "print(\"x =\", xout)\n",
    "print(\"f =\", fout)"
   ]
  },
  {
   "cell_type": "markdown",
   "metadata": {},
   "source": [
    "## Méthode de la sécante"
   ]
  },
  {
   "cell_type": "code",
   "execution_count": null,
   "metadata": {},
   "outputs": [],
   "source": [
    "help(\"MTH2210.secante\")"
   ]
  },
  {
   "cell_type": "code",
   "execution_count": null,
   "metadata": {},
   "outputs": [],
   "source": [
    "def f(x):\n",
    "    return(x**2)\n",
    "(x0,x1) = (2, 1)\n",
    "\n",
    "xout, fout, dout = MTH2210.secante(f, x0, x1, output=\"pipe\")\n",
    "# xout, fout, dout = MTH2210.secante(f, x0, x1)\n",
    "\n",
    "print(\"x =\", xout)\n",
    "print(\"f =\", fout)\n",
    "print(\"d =\", dout)"
   ]
  },
  {
   "cell_type": "markdown",
   "metadata": {},
   "source": [
    "## Méthode de Newton 1D"
   ]
  },
  {
   "cell_type": "code",
   "execution_count": null,
   "metadata": {},
   "outputs": [],
   "source": [
    "help(\"MTH2210.newton_1d\")\n",
    "\n",
    "def f(x):\n",
    "    return(np.sin(x))\n",
    "def df(x):\n",
    "    return(np.cos(x))\n",
    "x0 = 1\n",
    "\n",
    "xout, fout, dout = MTH2210.newton_1d(f, df, x0, output=\"pipe\")\n",
    "# xout, fout, dout = MTH2210.newton_1d(f, df, x0)\n",
    "\n",
    "print(\"x =\", xout)\n",
    "print(\"f =\", fout)\n",
    "print(\"d =\", dout)"
   ]
  },
  {
   "cell_type": "markdown",
   "metadata": {},
   "source": [
    "## Méthode de Newton nD sans dérivées"
   ]
  },
  {
   "cell_type": "code",
   "execution_count": null,
   "metadata": {},
   "outputs": [],
   "source": [
    "help(\"MTH2210.newton_nd\")"
   ]
  },
  {
   "cell_type": "code",
   "execution_count": null,
   "metadata": {},
   "outputs": [],
   "source": [
    "def f(x):\n",
    "    return(x**2)\n",
    "x0 = np.array([1,1,1])\n",
    "\n",
    "xout, fout, dout = MTH2210.newton_nd(f, x0, output=\"pipe\")\n",
    "# xout, fout, dout = MTH2210.newton_nd(f, x0)\n",
    "\n",
    "print(\"x =\", xout)\n",
    "print(\"f =\", fout)\n",
    "print(\"d =\", dout)"
   ]
  },
  {
   "cell_type": "markdown",
   "metadata": {},
   "source": [
    "## Méthode de Newton nD avec dérivées"
   ]
  },
  {
   "cell_type": "code",
   "execution_count": null,
   "metadata": {},
   "outputs": [],
   "source": [
    "help(\"MTH2210.newton_nd_avec_der\")"
   ]
  },
  {
   "cell_type": "code",
   "execution_count": null,
   "metadata": {},
   "outputs": [],
   "source": [
    "def f(x):\n",
    "    return(x**2)\n",
    "def jac(x):\n",
    "    return(2*np.diag(x))\n",
    "x0 = np.array([1,1,1])\n",
    "\n",
    "xout, fout, dout = MTH2210.newton_nd_avec_der(f, jac, x0, output=\"pipe\")\n",
    "# xout, fout, dout = MTH2210.newton_nd_avec_der(f, jac, x0)\n",
    "\n",
    "print(\"x =\", xout)\n",
    "print(\"f =\", fout)\n",
    "print(\"d =\", dout)"
   ]
  },
  {
   "cell_type": "markdown",
   "metadata": {},
   "source": [
    "## Recherche de point fixe"
   ]
  },
  {
   "cell_type": "code",
   "execution_count": null,
   "metadata": {},
   "outputs": [],
   "source": [
    "help(\"MTH2210.point_fixe\")"
   ]
  },
  {
   "cell_type": "markdown",
   "metadata": {},
   "source": [
    "En dimension 1 :"
   ]
  },
  {
   "cell_type": "code",
   "execution_count": null,
   "metadata": {},
   "outputs": [],
   "source": [
    "def f(x):\n",
    "    return(x**2)\n",
    "x0 = 0.5\n",
    "\n",
    "xout = MTH2210.point_fixe(f, x0, output=\"pipe\")\n",
    "# xout = MTH2210.point_fixe(f, x0)\n",
    "\n",
    "print(\"x =\", xout)"
   ]
  },
  {
   "cell_type": "markdown",
   "metadata": {},
   "source": [
    "En dimension n > 1 :"
   ]
  },
  {
   "cell_type": "code",
   "execution_count": null,
   "metadata": {},
   "outputs": [],
   "source": [
    "def f(x):\n",
    "    return(x**2)\n",
    "x0 = np.array([0.1,0.1])\n",
    "\n",
    "xout = MTH2210.point_fixe(f, x0, output=\"pipe\")\n",
    "# xout = MTH2210.point_fixe(f, x0)\n",
    "\n",
    "print(\"x =\", xout)"
   ]
  },
  {
   "cell_type": "markdown",
   "metadata": {},
   "source": [
    "## Interpolation de Lagrange"
   ]
  },
  {
   "cell_type": "code",
   "execution_count": null,
   "metadata": {},
   "outputs": [],
   "source": [
    "help(\"MTH2210.lagrange\")"
   ]
  },
  {
   "cell_type": "code",
   "execution_count": null,
   "metadata": {},
   "outputs": [],
   "source": [
    "xe = [-1,0,1]\n",
    "ye = [0,-1,0]\n",
    "x  = [-2,-1,-0.5,0,0.5,1,2]\n",
    "\n",
    "y, l = MTH2210.lagrange(xe, ye, x, output=\"pipe\")\n",
    "# y, l = MTH2210.lagrange(xe, ye, x)\n",
    "\n",
    "print(\"y =\", y)\n",
    "print(\"l(5) =\", l(5))\n",
    "print(\"l(np.array([5,10,100])) =\", l(np.array([5,10,100])))"
   ]
  },
  {
   "cell_type": "markdown",
   "metadata": {},
   "source": [
    "## Interpolation par splines cubiques"
   ]
  },
  {
   "cell_type": "code",
   "execution_count": null,
   "metadata": {},
   "outputs": [],
   "source": [
    "help(\"MTH2210.spline_cub\")"
   ]
  },
  {
   "cell_type": "markdown",
   "metadata": {},
   "source": [
    "Cas des splines naturelles :"
   ]
  },
  {
   "cell_type": "code",
   "execution_count": null,
   "metadata": {},
   "outputs": [],
   "source": [
    "xe = [-1,0,1]\n",
    "ye = [0,-1,0]\n",
    "x  = [-2,-1,-0.5,0,0.5,1,2]\n",
    "\n",
    "y, s = MTH2210.spline_cub(xe, ye, x, output=\"pipe\")\n",
    "# y, s = MTH2210.spline_cub(xe, ye, x)\n",
    "\n",
    "print(\"y =\", y)\n",
    "print(\"s(5) =\", s(5))\n",
    "print(\"s(np.array([5,10,100])) =\", s(np.array([5,10,100])))"
   ]
  },
  {
   "cell_type": "markdown",
   "metadata": {},
   "source": [
    "Cas des autres splines : les conditions à gauche et à droite se définissent via des paramètres optionnels.\n",
    "Ici, on ne spécifie que les conditions à gauche, donc il est sous-entendu qu'on demande les conditions naturelles à droite."
   ]
  },
  {
   "cell_type": "code",
   "execution_count": null,
   "metadata": {},
   "outputs": [],
   "source": [
    "xe = [-1,0,1]\n",
    "ye = [0,-1,0]\n",
    "x  = [-2,-1,-0.5,0,0.5,1,2]\n",
    "cond_g = 1\n",
    "val_g  = 0.5\n",
    "\n",
    "y, s = MTH2210.spline_cub(xe, ye, x, cond_g, val_g, output=\"pipe\")\n",
    "# y, s = MTH2210.spline_cub(xe, ye, x, cond_g, val_g)\n",
    "\n",
    "print(\"y =\", y)\n",
    "print(\"s(5) =\", s(5))\n",
    "print(\"s(np.array([5,10,100])) =\", s(np.array([5,10,100])))"
   ]
  },
  {
   "cell_type": "markdown",
   "metadata": {},
   "source": [
    "## Méthode d'approximation d'Euler"
   ]
  },
  {
   "cell_type": "code",
   "execution_count": null,
   "metadata": {},
   "outputs": [],
   "source": [
    "help(\"MTH2210.euler\")"
   ]
  },
  {
   "cell_type": "markdown",
   "metadata": {},
   "source": [
    "En dimension 1 :"
   ]
  },
  {
   "cell_type": "code",
   "execution_count": null,
   "metadata": {},
   "outputs": [],
   "source": [
    "def f(x,t):\n",
    "    return(np.cos(t))\n",
    "x0 = 0\n",
    "(t0,tm) = (0, 2*np.pi)\n",
    "m = 10\n",
    "\n",
    "xout, tout = MTH2210.euler(lambda x,t : np.cos(t), x0, t0, tm, m, output=\"pipe\")\n",
    "# xout, tout = MTH2210.euler(lambda x,t : np.cos(t), x0, t0, tm, m)\n",
    "\n",
    "print(\"x =\", xout)\n",
    "print(\"t =\", tout)"
   ]
  },
  {
   "cell_type": "markdown",
   "metadata": {},
   "source": [
    "En dimension n > 1 :"
   ]
  },
  {
   "cell_type": "code",
   "execution_count": null,
   "metadata": {},
   "outputs": [],
   "source": [
    "def f(x,t):\n",
    "    return(np.array([np.cos(t),np.sin(t)]))\n",
    "x0 = np.array([0,0])\n",
    "(t0,tm) = (0, 2*np.pi)\n",
    "m = 10\n",
    "\n",
    "xout, tout = MTH2210.euler(f, x0, t0, tm, m, output=\"pipe\")\n",
    "# xout, tout = MTH2210.euler(f, x0, t0, tm, m)\n",
    "\n",
    "print(\"x =\", xout)\n",
    "print(\"t =\", tout)"
   ]
  },
  {
   "cell_type": "markdown",
   "metadata": {},
   "source": [
    "## Méthode d'approximation via RK4"
   ]
  },
  {
   "cell_type": "code",
   "execution_count": null,
   "metadata": {},
   "outputs": [],
   "source": [
    "help(\"MTH2210.rk4\")"
   ]
  },
  {
   "cell_type": "markdown",
   "metadata": {},
   "source": [
    "En dimension 1 :"
   ]
  },
  {
   "cell_type": "code",
   "execution_count": null,
   "metadata": {},
   "outputs": [],
   "source": [
    "def f(x,t):\n",
    "    return(np.cos(t))\n",
    "x0 = 0\n",
    "(t0,tm) = (0, 2*np.pi)\n",
    "m = 10\n",
    "\n",
    "xout, tout = MTH2210.rk4(lambda x,t : np.cos(t), x0, t0, tm, m, output=\"pipe\")\n",
    "# xout, tout = MTH2210.rk4(lambda x,t : np.cos(t), x0, t0, tm, m)\n",
    "\n",
    "print(\"x =\", xout)\n",
    "print(\"t =\", tout)"
   ]
  },
  {
   "cell_type": "markdown",
   "metadata": {},
   "source": [
    "En dimension n > 1 :"
   ]
  },
  {
   "cell_type": "code",
   "execution_count": null,
   "metadata": {},
   "outputs": [],
   "source": [
    "def f(x,t):\n",
    "    return(np.array([np.cos(t),np.sin(t)]))\n",
    "x0 = np.array([0,0])\n",
    "(t0,tm) = (0, 2*np.pi)\n",
    "m = 10\n",
    "\n",
    "xout, tout = MTH2210.rk4(f, x0, t0, tm, m, output=\"pipe\")\n",
    "# xout, tout = MTH2210.rk4(f, x0, t0, tm, m)\n",
    "\n",
    "print(\"x =\", xout)\n",
    "print(\"t =\", tout)"
   ]
  }
 ],
 "metadata": {
  "kernelspec": {
   "display_name": "Python 3 (ipykernel)",
   "language": "python",
   "name": "python3"
  },
  "language_info": {
   "codemirror_mode": {
    "name": "ipython",
    "version": 3
   },
   "file_extension": ".py",
   "mimetype": "text/x-python",
   "name": "python",
   "nbconvert_exporter": "python",
   "pygments_lexer": "ipython3",
   "version": "3.9.12"
  }
 },
 "nbformat": 4,
 "nbformat_minor": 2
}
